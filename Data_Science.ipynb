{
  "cells": [
    {
      "cell_type": "markdown",
      "metadata": {
        "id": "view-in-github",
        "colab_type": "text"
      },
      "source": [
        "<a href=\"https://colab.research.google.com/github/mustafasherbini/ML-models-and-preprocicing-for-hardware-dataset/blob/main/Data_Science.ipynb\" target=\"_parent\"><img src=\"https://colab.research.google.com/assets/colab-badge.svg\" alt=\"Open In Colab\"/></a>"
      ]
    },
    {
      "cell_type": "code",
      "execution_count": null,
      "id": "de4f83d1",
      "metadata": {
        "id": "de4f83d1"
      },
      "outputs": [],
      "source": [
        "import pandas as pd\n",
        "from sklearn.model_selection import train_test_split\n",
        "from sklearn.linear_model import LogisticRegression\n",
        "from sklearn.metrics import confusion_matrix,classification_report\n",
        "import numpy as np\n",
        "data=pd.read_csv('DataSet.csv')\n",
        "data.head(2)\n",
        "data.columns=[\"Vendor Name\",\"Model Name\",\"MYCT\",\"MMIN\",\"MMAX\",\"CACH\",\"CHMIN\",\"CHMAX\",\"PRP\",\"ERP\"] "
      ]
    },
    {
      "cell_type": "code",
      "execution_count": null,
      "id": "3e008a10",
      "metadata": {
        "scrolled": true,
        "id": "3e008a10",
        "outputId": "fb01a419-8eb2-4688-a680-599b78af2624"
      },
      "outputs": [
        {
          "name": "stdout",
          "output_type": "stream",
          "text": [
            "<class 'pandas.core.frame.DataFrame'>\n",
            "RangeIndex: 209 entries, 0 to 208\n",
            "Data columns (total 10 columns):\n",
            " #   Column       Non-Null Count  Dtype \n",
            "---  ------       --------------  ----- \n",
            " 0   Vendor Name  209 non-null    object\n",
            " 1   Model Name   209 non-null    object\n",
            " 2   MYCT         209 non-null    int64 \n",
            " 3   MMIN         209 non-null    int64 \n",
            " 4   MMAX         209 non-null    int64 \n",
            " 5   CACH         209 non-null    int64 \n",
            " 6   CHMIN        209 non-null    int64 \n",
            " 7   CHMAX        209 non-null    int64 \n",
            " 8   PRP          209 non-null    int64 \n",
            " 9   ERP          209 non-null    int64 \n",
            "dtypes: int64(8), object(2)\n",
            "memory usage: 16.5+ KB\n"
          ]
        }
      ],
      "source": [
        "data.info()"
      ]
    },
    {
      "cell_type": "code",
      "execution_count": null,
      "id": "f6b4e7e6",
      "metadata": {
        "id": "f6b4e7e6",
        "outputId": "9ecc9313-fe3d-4200-a44c-c5eabe52b986"
      },
      "outputs": [
        {
          "data": {
            "text/plain": [
              "Vendor Name    0\n",
              "Model Name     0\n",
              "MYCT           0\n",
              "MMIN           0\n",
              "MMAX           0\n",
              "CACH           0\n",
              "CHMIN          0\n",
              "CHMAX          0\n",
              "PRP            0\n",
              "ERP            0\n",
              "dtype: int64"
            ]
          },
          "execution_count": 178,
          "metadata": {},
          "output_type": "execute_result"
        }
      ],
      "source": [
        "data.isnull().sum()\n"
      ]
    },
    {
      "cell_type": "code",
      "execution_count": null,
      "id": "a1ab68fd",
      "metadata": {
        "id": "a1ab68fd",
        "outputId": "05b62d88-1435-4cae-817d-2c235aededbc"
      },
      "outputs": [
        {
          "data": {
            "text/plain": [
              "Index(['Vendor Name', 'Model Name', 'MYCT', 'MMIN', 'MMAX', 'CACH', 'CHMIN',\n",
              "       'CHMAX', 'PRP', 'ERP'],\n",
              "      dtype='object')"
            ]
          },
          "execution_count": 179,
          "metadata": {},
          "output_type": "execute_result"
        }
      ],
      "source": [
        "data.columns"
      ]
    },
    {
      "cell_type": "code",
      "execution_count": null,
      "id": "dbe4fd13",
      "metadata": {
        "id": "dbe4fd13"
      },
      "outputs": [],
      "source": [
        "data_orig=data.copy()"
      ]
    },
    {
      "cell_type": "code",
      "execution_count": null,
      "id": "3f3fc162",
      "metadata": {
        "id": "3f3fc162",
        "outputId": "573bae62-70b5-4584-888e-91855a43e839"
      },
      "outputs": [
        {
          "data": {
            "text/html": [
              "<div>\n",
              "<style scoped>\n",
              "    .dataframe tbody tr th:only-of-type {\n",
              "        vertical-align: middle;\n",
              "    }\n",
              "\n",
              "    .dataframe tbody tr th {\n",
              "        vertical-align: top;\n",
              "    }\n",
              "\n",
              "    .dataframe thead th {\n",
              "        text-align: right;\n",
              "    }\n",
              "</style>\n",
              "<table border=\"1\" class=\"dataframe\">\n",
              "  <thead>\n",
              "    <tr style=\"text-align: right;\">\n",
              "      <th></th>\n",
              "      <th>Vendor Name</th>\n",
              "      <th>Model Name</th>\n",
              "      <th>MYCT</th>\n",
              "      <th>MMIN</th>\n",
              "      <th>MMAX</th>\n",
              "      <th>CACH</th>\n",
              "      <th>CHMIN</th>\n",
              "      <th>CHMAX</th>\n",
              "      <th>PRP</th>\n",
              "      <th>ERP</th>\n",
              "    </tr>\n",
              "  </thead>\n",
              "  <tbody>\n",
              "    <tr>\n",
              "      <th>0</th>\n",
              "      <td>adviser</td>\n",
              "      <td>32/60</td>\n",
              "      <td>125</td>\n",
              "      <td>256</td>\n",
              "      <td>6000</td>\n",
              "      <td>256</td>\n",
              "      <td>16</td>\n",
              "      <td>128</td>\n",
              "      <td>198</td>\n",
              "      <td>199</td>\n",
              "    </tr>\n",
              "    <tr>\n",
              "      <th>1</th>\n",
              "      <td>amdahl</td>\n",
              "      <td>470v/7</td>\n",
              "      <td>29</td>\n",
              "      <td>8000</td>\n",
              "      <td>32000</td>\n",
              "      <td>32</td>\n",
              "      <td>8</td>\n",
              "      <td>32</td>\n",
              "      <td>269</td>\n",
              "      <td>253</td>\n",
              "    </tr>\n",
              "    <tr>\n",
              "      <th>2</th>\n",
              "      <td>amdahl</td>\n",
              "      <td>470v/7a</td>\n",
              "      <td>29</td>\n",
              "      <td>8000</td>\n",
              "      <td>32000</td>\n",
              "      <td>32</td>\n",
              "      <td>8</td>\n",
              "      <td>32</td>\n",
              "      <td>220</td>\n",
              "      <td>253</td>\n",
              "    </tr>\n",
              "    <tr>\n",
              "      <th>3</th>\n",
              "      <td>amdahl</td>\n",
              "      <td>470v/7b</td>\n",
              "      <td>29</td>\n",
              "      <td>8000</td>\n",
              "      <td>32000</td>\n",
              "      <td>32</td>\n",
              "      <td>8</td>\n",
              "      <td>32</td>\n",
              "      <td>172</td>\n",
              "      <td>253</td>\n",
              "    </tr>\n",
              "    <tr>\n",
              "      <th>4</th>\n",
              "      <td>amdahl</td>\n",
              "      <td>470v/7c</td>\n",
              "      <td>29</td>\n",
              "      <td>8000</td>\n",
              "      <td>16000</td>\n",
              "      <td>32</td>\n",
              "      <td>8</td>\n",
              "      <td>16</td>\n",
              "      <td>132</td>\n",
              "      <td>132</td>\n",
              "    </tr>\n",
              "  </tbody>\n",
              "</table>\n",
              "</div>"
            ],
            "text/plain": [
              "  Vendor Name Model Name  MYCT  MMIN   MMAX  CACH  CHMIN  CHMAX  PRP  ERP\n",
              "0     adviser      32/60   125   256   6000   256     16    128  198  199\n",
              "1      amdahl     470v/7    29  8000  32000    32      8     32  269  253\n",
              "2      amdahl    470v/7a    29  8000  32000    32      8     32  220  253\n",
              "3      amdahl    470v/7b    29  8000  32000    32      8     32  172  253\n",
              "4      amdahl    470v/7c    29  8000  16000    32      8     16  132  132"
            ]
          },
          "execution_count": 181,
          "metadata": {},
          "output_type": "execute_result"
        }
      ],
      "source": [
        "data.head()"
      ]
    },
    {
      "cell_type": "code",
      "execution_count": null,
      "id": "a638bbc5",
      "metadata": {
        "id": "a638bbc5"
      },
      "outputs": [],
      "source": []
    },
    {
      "cell_type": "code",
      "execution_count": null,
      "id": "74fb3d18",
      "metadata": {
        "id": "74fb3d18",
        "outputId": "fdf9ac55-617f-40f0-80aa-003dc6ba804d"
      },
      "outputs": [
        {
          "data": {
            "text/html": [
              "<div>\n",
              "<style scoped>\n",
              "    .dataframe tbody tr th:only-of-type {\n",
              "        vertical-align: middle;\n",
              "    }\n",
              "\n",
              "    .dataframe tbody tr th {\n",
              "        vertical-align: top;\n",
              "    }\n",
              "\n",
              "    .dataframe thead th {\n",
              "        text-align: right;\n",
              "    }\n",
              "</style>\n",
              "<table border=\"1\" class=\"dataframe\">\n",
              "  <thead>\n",
              "    <tr style=\"text-align: right;\">\n",
              "      <th></th>\n",
              "      <th>Vendor Name</th>\n",
              "      <th>Model Name</th>\n",
              "      <th>MYCT</th>\n",
              "      <th>MMIN</th>\n",
              "      <th>MMAX</th>\n",
              "      <th>CACH</th>\n",
              "      <th>CHMIN</th>\n",
              "      <th>CHMAX</th>\n",
              "      <th>PRP</th>\n",
              "      <th>ERP</th>\n",
              "    </tr>\n",
              "  </thead>\n",
              "  <tbody>\n",
              "    <tr>\n",
              "      <th>0</th>\n",
              "      <td>0</td>\n",
              "      <td>29</td>\n",
              "      <td>125</td>\n",
              "      <td>256</td>\n",
              "      <td>6000</td>\n",
              "      <td>256</td>\n",
              "      <td>16</td>\n",
              "      <td>128</td>\n",
              "      <td>198</td>\n",
              "      <td>199</td>\n",
              "    </tr>\n",
              "    <tr>\n",
              "      <th>1</th>\n",
              "      <td>1</td>\n",
              "      <td>62</td>\n",
              "      <td>29</td>\n",
              "      <td>8000</td>\n",
              "      <td>32000</td>\n",
              "      <td>32</td>\n",
              "      <td>8</td>\n",
              "      <td>32</td>\n",
              "      <td>269</td>\n",
              "      <td>253</td>\n",
              "    </tr>\n",
              "    <tr>\n",
              "      <th>2</th>\n",
              "      <td>1</td>\n",
              "      <td>63</td>\n",
              "      <td>29</td>\n",
              "      <td>8000</td>\n",
              "      <td>32000</td>\n",
              "      <td>32</td>\n",
              "      <td>8</td>\n",
              "      <td>32</td>\n",
              "      <td>220</td>\n",
              "      <td>253</td>\n",
              "    </tr>\n",
              "    <tr>\n",
              "      <th>3</th>\n",
              "      <td>1</td>\n",
              "      <td>64</td>\n",
              "      <td>29</td>\n",
              "      <td>8000</td>\n",
              "      <td>32000</td>\n",
              "      <td>32</td>\n",
              "      <td>8</td>\n",
              "      <td>32</td>\n",
              "      <td>172</td>\n",
              "      <td>253</td>\n",
              "    </tr>\n",
              "    <tr>\n",
              "      <th>4</th>\n",
              "      <td>1</td>\n",
              "      <td>65</td>\n",
              "      <td>29</td>\n",
              "      <td>8000</td>\n",
              "      <td>16000</td>\n",
              "      <td>32</td>\n",
              "      <td>8</td>\n",
              "      <td>16</td>\n",
              "      <td>132</td>\n",
              "      <td>132</td>\n",
              "    </tr>\n",
              "    <tr>\n",
              "      <th>...</th>\n",
              "      <td>...</td>\n",
              "      <td>...</td>\n",
              "      <td>...</td>\n",
              "      <td>...</td>\n",
              "      <td>...</td>\n",
              "      <td>...</td>\n",
              "      <td>...</td>\n",
              "      <td>...</td>\n",
              "      <td>...</td>\n",
              "      <td>...</td>\n",
              "    </tr>\n",
              "    <tr>\n",
              "      <th>95</th>\n",
              "      <td>17</td>\n",
              "      <td>24</td>\n",
              "      <td>26</td>\n",
              "      <td>16000</td>\n",
              "      <td>32000</td>\n",
              "      <td>64</td>\n",
              "      <td>16</td>\n",
              "      <td>24</td>\n",
              "      <td>465</td>\n",
              "      <td>361</td>\n",
              "    </tr>\n",
              "    <tr>\n",
              "      <th>96</th>\n",
              "      <td>17</td>\n",
              "      <td>25</td>\n",
              "      <td>26</td>\n",
              "      <td>16000</td>\n",
              "      <td>32000</td>\n",
              "      <td>64</td>\n",
              "      <td>8</td>\n",
              "      <td>24</td>\n",
              "      <td>465</td>\n",
              "      <td>350</td>\n",
              "    </tr>\n",
              "    <tr>\n",
              "      <th>97</th>\n",
              "      <td>17</td>\n",
              "      <td>26</td>\n",
              "      <td>26</td>\n",
              "      <td>8000</td>\n",
              "      <td>32000</td>\n",
              "      <td>0</td>\n",
              "      <td>8</td>\n",
              "      <td>24</td>\n",
              "      <td>277</td>\n",
              "      <td>220</td>\n",
              "    </tr>\n",
              "    <tr>\n",
              "      <th>98</th>\n",
              "      <td>17</td>\n",
              "      <td>27</td>\n",
              "      <td>26</td>\n",
              "      <td>8000</td>\n",
              "      <td>16000</td>\n",
              "      <td>0</td>\n",
              "      <td>8</td>\n",
              "      <td>16</td>\n",
              "      <td>185</td>\n",
              "      <td>113</td>\n",
              "    </tr>\n",
              "    <tr>\n",
              "      <th>99</th>\n",
              "      <td>17</td>\n",
              "      <td>33</td>\n",
              "      <td>480</td>\n",
              "      <td>96</td>\n",
              "      <td>512</td>\n",
              "      <td>0</td>\n",
              "      <td>1</td>\n",
              "      <td>1</td>\n",
              "      <td>6</td>\n",
              "      <td>15</td>\n",
              "    </tr>\n",
              "  </tbody>\n",
              "</table>\n",
              "<p>100 rows × 10 columns</p>\n",
              "</div>"
            ],
            "text/plain": [
              "    Vendor Name  Model Name  MYCT   MMIN   MMAX  CACH  CHMIN  CHMAX  PRP  ERP\n",
              "0             0          29   125    256   6000   256     16    128  198  199\n",
              "1             1          62    29   8000  32000    32      8     32  269  253\n",
              "2             1          63    29   8000  32000    32      8     32  220  253\n",
              "3             1          64    29   8000  32000    32      8     32  172  253\n",
              "4             1          65    29   8000  16000    32      8     16  132  132\n",
              "..          ...         ...   ...    ...    ...   ...    ...    ...  ...  ...\n",
              "95           17          24    26  16000  32000    64     16     24  465  361\n",
              "96           17          25    26  16000  32000    64      8     24  465  350\n",
              "97           17          26    26   8000  32000     0      8     24  277  220\n",
              "98           17          27    26   8000  16000     0      8     16  185  113\n",
              "99           17          33   480     96    512     0      1      1    6   15\n",
              "\n",
              "[100 rows x 10 columns]"
            ]
          },
          "execution_count": 182,
          "metadata": {},
          "output_type": "execute_result"
        }
      ],
      "source": [
        "from sklearn.preprocessing import LabelEncoder\n",
        "LE = LabelEncoder()\n",
        "data['Vendor Name'] = LE.fit_transform(data['Vendor Name'])\n",
        "data['Model Name'] = LE.fit_transform(data['Model Name'])\n",
        "\n",
        "data.head(100)\n"
      ]
    },
    {
      "cell_type": "code",
      "execution_count": null,
      "id": "2148e162",
      "metadata": {
        "id": "2148e162",
        "outputId": "d897e4b0-cd1a-434b-f958-0b268af78b47"
      },
      "outputs": [
        {
          "name": "stdout",
          "output_type": "stream",
          "text": [
            "<class 'pandas.core.frame.DataFrame'>\n",
            "RangeIndex: 209 entries, 0 to 208\n",
            "Data columns (total 10 columns):\n",
            " #   Column       Non-Null Count  Dtype\n",
            "---  ------       --------------  -----\n",
            " 0   Vendor Name  209 non-null    int32\n",
            " 1   Model Name   209 non-null    int32\n",
            " 2   MYCT         209 non-null    int64\n",
            " 3   MMIN         209 non-null    int64\n",
            " 4   MMAX         209 non-null    int64\n",
            " 5   CACH         209 non-null    int64\n",
            " 6   CHMIN        209 non-null    int64\n",
            " 7   CHMAX        209 non-null    int64\n",
            " 8   PRP          209 non-null    int64\n",
            " 9   ERP          209 non-null    int64\n",
            "dtypes: int32(2), int64(8)\n",
            "memory usage: 14.8 KB\n"
          ]
        }
      ],
      "source": [
        "data.info()"
      ]
    },
    {
      "cell_type": "code",
      "execution_count": null,
      "id": "7effd41c",
      "metadata": {
        "id": "7effd41c",
        "outputId": "0b068357-c176-40de-a9de-7d2fef7cff3a"
      },
      "outputs": [
        {
          "data": {
            "text/html": [
              "<div>\n",
              "<style scoped>\n",
              "    .dataframe tbody tr th:only-of-type {\n",
              "        vertical-align: middle;\n",
              "    }\n",
              "\n",
              "    .dataframe tbody tr th {\n",
              "        vertical-align: top;\n",
              "    }\n",
              "\n",
              "    .dataframe thead th {\n",
              "        text-align: right;\n",
              "    }\n",
              "</style>\n",
              "<table border=\"1\" class=\"dataframe\">\n",
              "  <thead>\n",
              "    <tr style=\"text-align: right;\">\n",
              "      <th></th>\n",
              "      <th>Vendor Name</th>\n",
              "      <th>Model Name</th>\n",
              "      <th>MYCT</th>\n",
              "      <th>MMIN</th>\n",
              "      <th>MMAX</th>\n",
              "      <th>CACH</th>\n",
              "      <th>CHMIN</th>\n",
              "      <th>CHMAX</th>\n",
              "      <th>PRP</th>\n",
              "      <th>ERP</th>\n",
              "    </tr>\n",
              "  </thead>\n",
              "  <tbody>\n",
              "    <tr>\n",
              "      <th>Vendor Name</th>\n",
              "      <td>1.000000</td>\n",
              "      <td>-0.127345</td>\n",
              "      <td>-0.080296</td>\n",
              "      <td>-0.083438</td>\n",
              "      <td>0.008180</td>\n",
              "      <td>0.005729</td>\n",
              "      <td>0.037202</td>\n",
              "      <td>-0.012555</td>\n",
              "      <td>-0.021662</td>\n",
              "      <td>-0.020321</td>\n",
              "    </tr>\n",
              "    <tr>\n",
              "      <th>Model Name</th>\n",
              "      <td>-0.127345</td>\n",
              "      <td>1.000000</td>\n",
              "      <td>0.048600</td>\n",
              "      <td>-0.126972</td>\n",
              "      <td>-0.176645</td>\n",
              "      <td>-0.035492</td>\n",
              "      <td>-0.218127</td>\n",
              "      <td>-0.154152</td>\n",
              "      <td>-0.192771</td>\n",
              "      <td>-0.181206</td>\n",
              "    </tr>\n",
              "    <tr>\n",
              "      <th>MYCT</th>\n",
              "      <td>-0.080296</td>\n",
              "      <td>0.048600</td>\n",
              "      <td>1.000000</td>\n",
              "      <td>-0.335642</td>\n",
              "      <td>-0.378561</td>\n",
              "      <td>-0.321000</td>\n",
              "      <td>-0.301090</td>\n",
              "      <td>-0.250502</td>\n",
              "      <td>-0.307099</td>\n",
              "      <td>-0.288396</td>\n",
              "    </tr>\n",
              "    <tr>\n",
              "      <th>MMIN</th>\n",
              "      <td>-0.083438</td>\n",
              "      <td>-0.126972</td>\n",
              "      <td>-0.335642</td>\n",
              "      <td>1.000000</td>\n",
              "      <td>0.758157</td>\n",
              "      <td>0.534729</td>\n",
              "      <td>0.517189</td>\n",
              "      <td>0.266907</td>\n",
              "      <td>0.794931</td>\n",
              "      <td>0.819292</td>\n",
              "    </tr>\n",
              "    <tr>\n",
              "      <th>MMAX</th>\n",
              "      <td>0.008180</td>\n",
              "      <td>-0.176645</td>\n",
              "      <td>-0.378561</td>\n",
              "      <td>0.758157</td>\n",
              "      <td>1.000000</td>\n",
              "      <td>0.537990</td>\n",
              "      <td>0.560513</td>\n",
              "      <td>0.527246</td>\n",
              "      <td>0.863004</td>\n",
              "      <td>0.901202</td>\n",
              "    </tr>\n",
              "    <tr>\n",
              "      <th>CACH</th>\n",
              "      <td>0.005729</td>\n",
              "      <td>-0.035492</td>\n",
              "      <td>-0.321000</td>\n",
              "      <td>0.534729</td>\n",
              "      <td>0.537990</td>\n",
              "      <td>1.000000</td>\n",
              "      <td>0.582245</td>\n",
              "      <td>0.487846</td>\n",
              "      <td>0.662641</td>\n",
              "      <td>0.648620</td>\n",
              "    </tr>\n",
              "    <tr>\n",
              "      <th>CHMIN</th>\n",
              "      <td>0.037202</td>\n",
              "      <td>-0.218127</td>\n",
              "      <td>-0.301090</td>\n",
              "      <td>0.517189</td>\n",
              "      <td>0.560513</td>\n",
              "      <td>0.582245</td>\n",
              "      <td>1.000000</td>\n",
              "      <td>0.548281</td>\n",
              "      <td>0.608903</td>\n",
              "      <td>0.610580</td>\n",
              "    </tr>\n",
              "    <tr>\n",
              "      <th>CHMAX</th>\n",
              "      <td>-0.012555</td>\n",
              "      <td>-0.154152</td>\n",
              "      <td>-0.250502</td>\n",
              "      <td>0.266907</td>\n",
              "      <td>0.527246</td>\n",
              "      <td>0.487846</td>\n",
              "      <td>0.548281</td>\n",
              "      <td>1.000000</td>\n",
              "      <td>0.605209</td>\n",
              "      <td>0.592156</td>\n",
              "    </tr>\n",
              "    <tr>\n",
              "      <th>PRP</th>\n",
              "      <td>-0.021662</td>\n",
              "      <td>-0.192771</td>\n",
              "      <td>-0.307099</td>\n",
              "      <td>0.794931</td>\n",
              "      <td>0.863004</td>\n",
              "      <td>0.662641</td>\n",
              "      <td>0.608903</td>\n",
              "      <td>0.605209</td>\n",
              "      <td>1.000000</td>\n",
              "      <td>0.966472</td>\n",
              "    </tr>\n",
              "    <tr>\n",
              "      <th>ERP</th>\n",
              "      <td>-0.020321</td>\n",
              "      <td>-0.181206</td>\n",
              "      <td>-0.288396</td>\n",
              "      <td>0.819292</td>\n",
              "      <td>0.901202</td>\n",
              "      <td>0.648620</td>\n",
              "      <td>0.610580</td>\n",
              "      <td>0.592156</td>\n",
              "      <td>0.966472</td>\n",
              "      <td>1.000000</td>\n",
              "    </tr>\n",
              "  </tbody>\n",
              "</table>\n",
              "</div>"
            ],
            "text/plain": [
              "             Vendor Name  Model Name      MYCT      MMIN      MMAX      CACH  \\\n",
              "Vendor Name     1.000000   -0.127345 -0.080296 -0.083438  0.008180  0.005729   \n",
              "Model Name     -0.127345    1.000000  0.048600 -0.126972 -0.176645 -0.035492   \n",
              "MYCT           -0.080296    0.048600  1.000000 -0.335642 -0.378561 -0.321000   \n",
              "MMIN           -0.083438   -0.126972 -0.335642  1.000000  0.758157  0.534729   \n",
              "MMAX            0.008180   -0.176645 -0.378561  0.758157  1.000000  0.537990   \n",
              "CACH            0.005729   -0.035492 -0.321000  0.534729  0.537990  1.000000   \n",
              "CHMIN           0.037202   -0.218127 -0.301090  0.517189  0.560513  0.582245   \n",
              "CHMAX          -0.012555   -0.154152 -0.250502  0.266907  0.527246  0.487846   \n",
              "PRP            -0.021662   -0.192771 -0.307099  0.794931  0.863004  0.662641   \n",
              "ERP            -0.020321   -0.181206 -0.288396  0.819292  0.901202  0.648620   \n",
              "\n",
              "                CHMIN     CHMAX       PRP       ERP  \n",
              "Vendor Name  0.037202 -0.012555 -0.021662 -0.020321  \n",
              "Model Name  -0.218127 -0.154152 -0.192771 -0.181206  \n",
              "MYCT        -0.301090 -0.250502 -0.307099 -0.288396  \n",
              "MMIN         0.517189  0.266907  0.794931  0.819292  \n",
              "MMAX         0.560513  0.527246  0.863004  0.901202  \n",
              "CACH         0.582245  0.487846  0.662641  0.648620  \n",
              "CHMIN        1.000000  0.548281  0.608903  0.610580  \n",
              "CHMAX        0.548281  1.000000  0.605209  0.592156  \n",
              "PRP          0.608903  0.605209  1.000000  0.966472  \n",
              "ERP          0.610580  0.592156  0.966472  1.000000  "
            ]
          },
          "execution_count": 184,
          "metadata": {},
          "output_type": "execute_result"
        }
      ],
      "source": [
        "data.corr()"
      ]
    },
    {
      "cell_type": "code",
      "execution_count": null,
      "id": "234c5554",
      "metadata": {
        "id": "234c5554",
        "outputId": "9fa49f22-afec-4916-8d41-c5859e73cd32"
      },
      "outputs": [
        {
          "data": {
            "text/plain": [
              "<AxesSubplot:>"
            ]
          },
          "execution_count": 185,
          "metadata": {},
          "output_type": "execute_result"
        },
        {
          "data": {
            "image/png": "[encoded data removed]",
            "text/plain": [
              "<Figure size 432x288 with 2 Axes>"
            ]
          },
          "metadata": {
            "needs_background": "light"
          },
          "output_type": "display_data"
        }
      ],
      "source": [
        "import matplotlib.pyplot as plt\n",
        "import seaborn as sns\n",
        "sns.heatmap(data.isnull())"
      ]
    },
    {
      "cell_type": "code",
      "execution_count": null,
      "id": "dcc9446b",
      "metadata": {
        "id": "dcc9446b",
        "outputId": "931013a5-fbbc-4ef4-dd90-bbbc12c21087"
      },
      "outputs": [
        {
          "data": {
            "text/html": [
              "<div>\n",
              "<style scoped>\n",
              "    .dataframe tbody tr th:only-of-type {\n",
              "        vertical-align: middle;\n",
              "    }\n",
              "\n",
              "    .dataframe tbody tr th {\n",
              "        vertical-align: top;\n",
              "    }\n",
              "\n",
              "    .dataframe thead th {\n",
              "        text-align: right;\n",
              "    }\n",
              "</style>\n",
              "<table border=\"1\" class=\"dataframe\">\n",
              "  <thead>\n",
              "    <tr style=\"text-align: right;\">\n",
              "      <th></th>\n",
              "      <th>Vendor Name</th>\n",
              "      <th>Model Name</th>\n",
              "      <th>MYCT</th>\n",
              "      <th>MMIN</th>\n",
              "      <th>MMAX</th>\n",
              "      <th>CACH</th>\n",
              "      <th>CHMIN</th>\n",
              "      <th>CHMAX</th>\n",
              "      <th>PRP</th>\n",
              "      <th>ERP</th>\n",
              "    </tr>\n",
              "  </thead>\n",
              "  <tbody>\n",
              "    <tr>\n",
              "      <th>count</th>\n",
              "      <td>209.000000</td>\n",
              "      <td>209.000000</td>\n",
              "      <td>209.000000</td>\n",
              "      <td>209.000000</td>\n",
              "      <td>209.000000</td>\n",
              "      <td>209.000000</td>\n",
              "      <td>209.000000</td>\n",
              "      <td>209.000000</td>\n",
              "      <td>209.000000</td>\n",
              "      <td>209.000000</td>\n",
              "    </tr>\n",
              "    <tr>\n",
              "      <th>mean</th>\n",
              "      <td>15.937799</td>\n",
              "      <td>104.000000</td>\n",
              "      <td>203.822967</td>\n",
              "      <td>2867.980861</td>\n",
              "      <td>11796.153110</td>\n",
              "      <td>25.205742</td>\n",
              "      <td>4.698565</td>\n",
              "      <td>18.267943</td>\n",
              "      <td>105.622010</td>\n",
              "      <td>99.330144</td>\n",
              "    </tr>\n",
              "    <tr>\n",
              "      <th>std</th>\n",
              "      <td>7.490440</td>\n",
              "      <td>60.477268</td>\n",
              "      <td>260.262926</td>\n",
              "      <td>3878.742758</td>\n",
              "      <td>11726.564377</td>\n",
              "      <td>40.628722</td>\n",
              "      <td>6.816274</td>\n",
              "      <td>25.997318</td>\n",
              "      <td>160.830733</td>\n",
              "      <td>154.757102</td>\n",
              "    </tr>\n",
              "    <tr>\n",
              "      <th>min</th>\n",
              "      <td>0.000000</td>\n",
              "      <td>0.000000</td>\n",
              "      <td>17.000000</td>\n",
              "      <td>64.000000</td>\n",
              "      <td>64.000000</td>\n",
              "      <td>0.000000</td>\n",
              "      <td>0.000000</td>\n",
              "      <td>0.000000</td>\n",
              "      <td>6.000000</td>\n",
              "      <td>15.000000</td>\n",
              "    </tr>\n",
              "    <tr>\n",
              "      <th>25%</th>\n",
              "      <td>10.000000</td>\n",
              "      <td>52.000000</td>\n",
              "      <td>50.000000</td>\n",
              "      <td>768.000000</td>\n",
              "      <td>4000.000000</td>\n",
              "      <td>0.000000</td>\n",
              "      <td>1.000000</td>\n",
              "      <td>5.000000</td>\n",
              "      <td>27.000000</td>\n",
              "      <td>28.000000</td>\n",
              "    </tr>\n",
              "    <tr>\n",
              "      <th>50%</th>\n",
              "      <td>17.000000</td>\n",
              "      <td>104.000000</td>\n",
              "      <td>110.000000</td>\n",
              "      <td>2000.000000</td>\n",
              "      <td>8000.000000</td>\n",
              "      <td>8.000000</td>\n",
              "      <td>2.000000</td>\n",
              "      <td>8.000000</td>\n",
              "      <td>50.000000</td>\n",
              "      <td>45.000000</td>\n",
              "    </tr>\n",
              "    <tr>\n",
              "      <th>75%</th>\n",
              "      <td>21.000000</td>\n",
              "      <td>156.000000</td>\n",
              "      <td>225.000000</td>\n",
              "      <td>4000.000000</td>\n",
              "      <td>16000.000000</td>\n",
              "      <td>32.000000</td>\n",
              "      <td>6.000000</td>\n",
              "      <td>24.000000</td>\n",
              "      <td>113.000000</td>\n",
              "      <td>101.000000</td>\n",
              "    </tr>\n",
              "    <tr>\n",
              "      <th>max</th>\n",
              "      <td>29.000000</td>\n",
              "      <td>208.000000</td>\n",
              "      <td>1500.000000</td>\n",
              "      <td>32000.000000</td>\n",
              "      <td>64000.000000</td>\n",
              "      <td>256.000000</td>\n",
              "      <td>52.000000</td>\n",
              "      <td>176.000000</td>\n",
              "      <td>1150.000000</td>\n",
              "      <td>1238.000000</td>\n",
              "    </tr>\n",
              "  </tbody>\n",
              "</table>\n",
              "</div>"
            ],
            "text/plain": [
              "       Vendor Name  Model Name         MYCT          MMIN          MMAX  \\\n",
              "count   209.000000  209.000000   209.000000    209.000000    209.000000   \n",
              "mean     15.937799  104.000000   203.822967   2867.980861  11796.153110   \n",
              "std       7.490440   60.477268   260.262926   3878.742758  11726.564377   \n",
              "min       0.000000    0.000000    17.000000     64.000000     64.000000   \n",
              "25%      10.000000   52.000000    50.000000    768.000000   4000.000000   \n",
              "50%      17.000000  104.000000   110.000000   2000.000000   8000.000000   \n",
              "75%      21.000000  156.000000   225.000000   4000.000000  16000.000000   \n",
              "max      29.000000  208.000000  1500.000000  32000.000000  64000.000000   \n",
              "\n",
              "             CACH       CHMIN       CHMAX          PRP          ERP  \n",
              "count  209.000000  209.000000  209.000000   209.000000   209.000000  \n",
              "mean    25.205742    4.698565   18.267943   105.622010    99.330144  \n",
              "std     40.628722    6.816274   25.997318   160.830733   154.757102  \n",
              "min      0.000000    0.000000    0.000000     6.000000    15.000000  \n",
              "25%      0.000000    1.000000    5.000000    27.000000    28.000000  \n",
              "50%      8.000000    2.000000    8.000000    50.000000    45.000000  \n",
              "75%     32.000000    6.000000   24.000000   113.000000   101.000000  \n",
              "max    256.000000   52.000000  176.000000  1150.000000  1238.000000  "
            ]
          },
          "execution_count": 186,
          "metadata": {},
          "output_type": "execute_result"
        }
      ],
      "source": [
        "data.describe()"
      ]
    },
    {
      "cell_type": "code",
      "execution_count": null,
      "id": "47a9f834",
      "metadata": {
        "scrolled": true,
        "id": "47a9f834",
        "outputId": "0523c0b4-f932-4396-d541-5d3be2cffebf"
      },
      "outputs": [
        {
          "data": {
            "text/plain": [
              "Index(['Vendor Name', 'Model Name', 'MYCT', 'MMIN', 'MMAX', 'CACH', 'CHMIN',\n",
              "       'CHMAX', 'PRP', 'ERP'],\n",
              "      dtype='object')"
            ]
          },
          "execution_count": 187,
          "metadata": {},
          "output_type": "execute_result"
        }
      ],
      "source": [
        "data.columns"
      ]
    },
    {
      "cell_type": "code",
      "execution_count": null,
      "id": "6a6f11e9",
      "metadata": {
        "id": "6a6f11e9",
        "outputId": "2acb8dd9-5653-4642-ce44-0230e2dd4bb2"
      },
      "outputs": [
        {
          "name": "stdout",
          "output_type": "stream",
          "text": [
            "MYCT       175.0\n",
            "MMIN      3232.0\n",
            "MMAX     12000.0\n",
            "CACH        32.0\n",
            "CHMIN        5.0\n",
            "CHMAX       19.0\n",
            "PRP         86.0\n",
            "ERP         73.0\n",
            "dtype: float64\n"
          ]
        }
      ],
      "source": [
        "data=data[['MYCT', 'MMIN', 'MMAX', 'CACH',\n",
        "       'CHMIN', 'CHMAX', 'PRP', 'ERP']]\n",
        "Q1=data.quantile(0.25)\n",
        "Q3=data.quantile(0.75)\n",
        "IQR=Q3-Q1\n",
        "print(IQR)\n"
      ]
    },
    {
      "cell_type": "code",
      "execution_count": null,
      "id": "83b1d5cf",
      "metadata": {
        "id": "83b1d5cf",
        "outputId": "cfdf157d-8e2c-4626-fc7b-8cb3912dc17e"
      },
      "outputs": [
        {
          "name": "stdout",
          "output_type": "stream",
          "text": [
            "      MYCT   MMIN   MMAX   CACH  CHMIN  CHMAX    PRP    ERP\n",
            "0    False  False  False   True   True   True  False  False\n",
            "1    False  False  False  False  False  False   True   True\n",
            "2    False  False  False  False  False  False  False   True\n",
            "3    False  False  False  False  False  False  False   True\n",
            "4    False  False  False  False  False  False  False  False\n",
            "..     ...    ...    ...    ...    ...    ...    ...    ...\n",
            "204  False  False  False  False  False  False  False  False\n",
            "205  False  False  False  False  False  False  False  False\n",
            "206  False  False  False  False  False  False  False  False\n",
            "207  False  False  False  False  False  False  False  False\n",
            "208  False  False  False  False  False  False  False  False\n",
            "\n",
            "[209 rows x 8 columns]\n"
          ]
        }
      ],
      "source": [
        "print((data<(Q1-1.5*IQR))|(data>(Q3+1.5*IQR)))"
      ]
    },
    {
      "cell_type": "code",
      "execution_count": null,
      "id": "6b17edb4",
      "metadata": {
        "id": "6b17edb4",
        "outputId": "af5c722a-d98d-47df-b6a5-3a3e39a11fa0"
      },
      "outputs": [
        {
          "data": {
            "text/plain": [
              "12.0"
            ]
          },
          "execution_count": 190,
          "metadata": {},
          "output_type": "execute_result"
        }
      ],
      "source": [
        "data[\"CHMIN\"].quantile(0.90)"
      ]
    },
    {
      "cell_type": "code",
      "execution_count": null,
      "id": "52860549",
      "metadata": {
        "id": "52860549",
        "outputId": "fd6de7c8-d9af-41dd-a5ae-a35fbcb45f4a"
      },
      "outputs": [
        {
          "data": {
            "text/plain": [
              "1.0"
            ]
          },
          "execution_count": 191,
          "metadata": {},
          "output_type": "execute_result"
        }
      ],
      "source": [
        "data[\"CHMIN\"].quantile(0.10)"
      ]
    },
    {
      "cell_type": "code",
      "execution_count": null,
      "id": "e8e8d368",
      "metadata": {
        "id": "e8e8d368"
      },
      "outputs": [],
      "source": [
        "data[\"CHMIN\"] = np.where(data[\"CHMIN\"]<1.0 , 1.0,data[\"CHMIN\"])\n",
        "data[\"CHMIN\"] = np.where(data[\"CHMIN\"]>12.0 , 12.0,data[\"CHMIN\"])"
      ]
    },
    {
      "cell_type": "code",
      "execution_count": null,
      "id": "c594c4f8",
      "metadata": {
        "scrolled": false,
        "id": "c594c4f8",
        "outputId": "d0a59780-58a4-4060-b317-bc2c75a50619"
      },
      "outputs": [
        {
          "name": "stdout",
          "output_type": "stream",
          "text": [
            "      MYCT   MMIN   MMAX   CACH  CHMIN  CHMAX    PRP    ERP\n",
            "0    False  False  False   True  False   True  False  False\n",
            "1    False  False  False  False  False  False   True   True\n",
            "2    False  False  False  False  False  False  False   True\n",
            "3    False  False  False  False  False  False  False   True\n",
            "4    False  False  False  False  False  False  False  False\n",
            "..     ...    ...    ...    ...    ...    ...    ...    ...\n",
            "204  False  False  False  False  False  False  False  False\n",
            "205  False  False  False  False  False  False  False  False\n",
            "206  False  False  False  False  False  False  False  False\n",
            "207  False  False  False  False  False  False  False  False\n",
            "208  False  False  False  False  False  False  False  False\n",
            "\n",
            "[209 rows x 8 columns]\n"
          ]
        }
      ],
      "source": [
        "print((data<(Q1-1.5*IQR))|(data>(Q3+1.5*IQR)))"
      ]
    },
    {
      "cell_type": "code",
      "execution_count": null,
      "id": "6a6e5b8a",
      "metadata": {
        "id": "6a6e5b8a",
        "outputId": "52d21942-e044-4ad6-a21c-6ad3fd7a0104"
      },
      "outputs": [
        {
          "data": {
            "text/plain": [
              "64.0"
            ]
          },
          "execution_count": 194,
          "metadata": {},
          "output_type": "execute_result"
        }
      ],
      "source": [
        "data[\"CACH\"].quantile(0.90)"
      ]
    },
    {
      "cell_type": "code",
      "execution_count": null,
      "id": "7a5242c6",
      "metadata": {
        "id": "7a5242c6",
        "outputId": "71f2b361-59f3-4011-a52d-2641fa57c7ae"
      },
      "outputs": [
        {
          "data": {
            "text/plain": [
              "0.0"
            ]
          },
          "execution_count": 195,
          "metadata": {},
          "output_type": "execute_result"
        }
      ],
      "source": [
        "data[\"CACH\"].quantile(0.10)"
      ]
    },
    {
      "cell_type": "code",
      "execution_count": null,
      "id": "678ab4fa",
      "metadata": {
        "id": "678ab4fa"
      },
      "outputs": [],
      "source": [
        "data[\"CACH\"] = np.where(data[\"CACH\"]<0.0 , 0.0,data[\"CACH\"])\n",
        "data[\"CACH\"] = np.where(data[\"CACH\"]>64.0 , 64.0,data[\"CACH\"])"
      ]
    },
    {
      "cell_type": "code",
      "execution_count": null,
      "id": "89bbfa76",
      "metadata": {
        "id": "89bbfa76"
      },
      "outputs": [],
      "source": []
    },
    {
      "cell_type": "code",
      "execution_count": null,
      "id": "001dd380",
      "metadata": {
        "id": "001dd380",
        "outputId": "89be0fbf-1b03-46dc-f705-d51e79f13e54"
      },
      "outputs": [
        {
          "name": "stdout",
          "output_type": "stream",
          "text": [
            "32.0\n",
            "2.0\n"
          ]
        }
      ],
      "source": [
        "print(data[\"CHMAX\"].quantile(0.90))\n",
        "print(data[\"CHMAX\"].quantile(0.10))\n",
        "data[\"CHMAX\"] = np.where(data[\"CHMAX\"]>32.0,20,data[\"CHMAX\"]);\n"
      ]
    },
    {
      "cell_type": "code",
      "execution_count": null,
      "id": "84d97a3f",
      "metadata": {
        "id": "84d97a3f"
      },
      "outputs": [],
      "source": []
    },
    {
      "cell_type": "code",
      "execution_count": null,
      "id": "a0bd691f",
      "metadata": {
        "id": "a0bd691f",
        "outputId": "5fb7d492-aa02-4bf8-d3d4-035c70155670"
      },
      "outputs": [
        {
          "name": "stdout",
          "output_type": "stream",
          "text": [
            "261.00000000000017\n",
            "17.0\n"
          ]
        }
      ],
      "source": [
        "print(data[\"PRP\"].quantile(0.90))\n",
        "print(data[\"PRP\"].quantile(0.10))"
      ]
    },
    {
      "cell_type": "code",
      "execution_count": null,
      "id": "4066e47e",
      "metadata": {
        "id": "4066e47e"
      },
      "outputs": [],
      "source": [
        "data[\"PRP\"] = np.where(data[\"PRP\"]>26.0,17.0,data[\"PRP\"]);"
      ]
    },
    {
      "cell_type": "code",
      "execution_count": null,
      "id": "cedd2d0d",
      "metadata": {
        "id": "cedd2d0d",
        "outputId": "63eabf71-3bf9-412e-d170-bcdc8e8a585b"
      },
      "outputs": [
        {
          "name": "stdout",
          "output_type": "stream",
          "text": [
            "253.0\n",
            "20.8\n"
          ]
        }
      ],
      "source": [
        "print(data[\"ERP\"].quantile(0.90))\n",
        "print(data[\"ERP\"].quantile(0.10))"
      ]
    },
    {
      "cell_type": "code",
      "execution_count": null,
      "id": "40a55dd9",
      "metadata": {
        "id": "40a55dd9"
      },
      "outputs": [],
      "source": [
        "data[\"ERP\"] = np.where(data[\"ERP\"]>253.0,20.8,data[\"ERP\"]);"
      ]
    },
    {
      "cell_type": "code",
      "execution_count": null,
      "id": "a340092a",
      "metadata": {
        "id": "a340092a",
        "outputId": "11f5db74-f414-4c16-8f33-7b55f69a7ecd"
      },
      "outputs": [
        {
          "name": "stdout",
          "output_type": "stream",
          "text": [
            "      MYCT   MMIN   MMAX   CACH  CHMIN  CHMAX    PRP    ERP\n",
            "0    False  False  False  False  False  False  False  False\n",
            "1    False  False  False  False  False  False  False   True\n",
            "2    False  False  False  False  False  False  False   True\n",
            "3    False  False  False  False  False  False  False   True\n",
            "4    False  False  False  False  False  False  False  False\n",
            "..     ...    ...    ...    ...    ...    ...    ...    ...\n",
            "204  False  False  False  False  False  False  False  False\n",
            "205  False  False  False  False  False  False  False  False\n",
            "206  False  False  False  False  False  False  False  False\n",
            "207  False  False  False  False  False  False  False  False\n",
            "208  False  False  False  False  False  False  False  False\n",
            "\n",
            "[209 rows x 8 columns]\n"
          ]
        }
      ],
      "source": [
        "print((data<(Q1-1.5*IQR))|(data>(Q3+1.5*IQR)))"
      ]
    },
    {
      "cell_type": "code",
      "execution_count": null,
      "id": "bea1d2ec",
      "metadata": {
        "id": "bea1d2ec",
        "outputId": "7de9f572-d06d-46e7-b119-c18cc75d8ca3"
      },
      "outputs": [
        {
          "name": "stdout",
          "output_type": "stream",
          "text": [
            "<class 'pandas.core.frame.DataFrame'>\n",
            "RangeIndex: 209 entries, 0 to 208\n",
            "Data columns (total 8 columns):\n",
            " #   Column  Non-Null Count  Dtype  \n",
            "---  ------  --------------  -----  \n",
            " 0   MYCT    209 non-null    int64  \n",
            " 1   MMIN    209 non-null    int64  \n",
            " 2   MMAX    209 non-null    int64  \n",
            " 3   CACH    209 non-null    float64\n",
            " 4   CHMIN   209 non-null    float64\n",
            " 5   CHMAX   209 non-null    int64  \n",
            " 6   PRP     209 non-null    float64\n",
            " 7   ERP     209 non-null    float64\n",
            "dtypes: float64(4), int64(4)\n",
            "memory usage: 13.2 KB\n"
          ]
        }
      ],
      "source": [
        "data.info()"
      ]
    },
    {
      "cell_type": "code",
      "execution_count": null,
      "id": "b48c1e57",
      "metadata": {
        "id": "b48c1e57",
        "outputId": "731d33ce-e02d-473f-dd5b-ef6817b9e1a1"
      },
      "outputs": [
        {
          "name": "stdout",
          "output_type": "stream",
          "text": [
            "MSE: 314.25455532351526\n",
            "Accuracy: 0.9635355992781538\n"
          ]
        },
        {
          "data": {
            "image/png": "[encoded data removed]",
            "text/plain": [
              "<Figure size 576x432 with 1 Axes>"
            ]
          },
          "metadata": {
            "needs_background": "light"
          },
          "output_type": "display_data"
        }
      ],
      "source": [
        "import numpy as np\n",
        "import pandas as pd\n",
        "\n",
        "dt=pd.read_csv(\"DataSet.csv\")\n",
        "\n",
        "def r2_score(y_true, y_pred):\n",
        "    corr_matrix = np.corrcoef(y_true, y_pred)\n",
        "    corr = corr_matrix[0, 1]\n",
        "    return corr ** 2\n",
        "\n",
        "dt.head()\n",
        "\n",
        "class LinearRegression:\n",
        "    def __init__(self, learning_rate=0.001, n_iters=1000):\n",
        "        self.lr = learning_rate\n",
        "        self.n_iters = n_iters\n",
        "        self.weights = None\n",
        "        self.bias = None\n",
        "\n",
        "    def fit(self, X, y):\n",
        "        n_samples, n_features = X.shape\n",
        "\n",
        "        # init parameters\n",
        "        self.weights = np.zeros(n_features)\n",
        "        self.bias = 0\n",
        "\n",
        "        # gradient descent\n",
        "        for _ in range(self.n_iters):\n",
        "            y_predicted = np.dot(X, self.weights) + self.bias\n",
        "            # compute gradients\n",
        "            dw = (1 / n_samples) * np.dot(X.T, (y_predicted - y))\n",
        "            db = (1 / n_samples) * np.sum(y_predicted - y)\n",
        "\n",
        "            # update parameters\n",
        "            self.weights -= self.lr * dw\n",
        "            self.bias -= self.lr * db\n",
        "\n",
        "    def predict(self, X):\n",
        "        y_approximated = np.dot(X, self.weights) + self.bias\n",
        "        return y_approximated\n",
        "\n",
        "\n",
        "# Testing\n",
        "if __name__ == \"__main__\":\n",
        "    # Imports\n",
        "    import matplotlib.pyplot as plt\n",
        "    from sklearn.model_selection import train_test_split\n",
        "    from sklearn import datasets\n",
        "\n",
        "    def mean_squared_error(y_true, y_pred):\n",
        "        return np.mean((y_true - y_pred) ** 2)\n",
        "\n",
        "    X, y = datasets.make_regression(\n",
        "        n_samples=100, n_features=1, noise=20, random_state=4\n",
        "    )\n",
        "\n",
        "    X_train, X_test, y_train, y_test = train_test_split(\n",
        "        X, y, test_size=0.2, random_state=101\n",
        "    )\n",
        "\n",
        "    regressor = LinearRegression(learning_rate=0.01, n_iters=1000)\n",
        "    regressor.fit(X_train, y_train)\n",
        "    predictions = regressor.predict(X_test)\n",
        "\n",
        "    mse = mean_squared_error(y_test, predictions)\n",
        "    print(\"MSE:\", mse)\n",
        "\n",
        "    accu = r2_score(y_test, predictions)\n",
        "    print(\"Accuracy:\", accu)\n",
        "\n",
        "    y_pred_line = regressor.predict(X)\n",
        "    cmap = plt.get_cmap(\"viridis\")\n",
        "    fig = plt.figure(figsize=(8, 6))\n",
        "    m1 = plt.scatter(X_train, y_train, color=cmap(0.9), s=10)\n",
        "    m2 = plt.scatter(X_test, y_test, color=cmap(0.5), s=10)\n",
        "    plt.plot(X, y_pred_line, color=\"black\", linewidth=2, label=\"Prediction\")\n",
        "    plt.show()\n"
      ]
    },
    {
      "cell_type": "code",
      "execution_count": null,
      "id": "d385bdbb",
      "metadata": {
        "scrolled": true,
        "id": "d385bdbb",
        "outputId": "2efe7487-3f55-4368-b620-37c0cbb3e2f9"
      },
      "outputs": [
        {
          "name": "stdout",
          "output_type": "stream",
          "text": [
            "accuracy: 0.03773584905660377\n"
          ]
        }
      ],
      "source": [
        "import pandas as pd\n",
        "import numpy as np\n",
        "import matplotlib.pyplot as plt\n",
        "from sklearn.linear_model import LogisticRegression\n",
        "from sklearn.preprocessing import StandardScaler\n",
        "from sklearn.model_selection import train_test_split\n",
        "from sklearn.metrics import accuracy_score\n",
        "\n",
        "data=pd.read_csv(\"DataSet.csv\")\n",
        "\n",
        "\n",
        "\n",
        "x = data.iloc[:, [2, 3,4,5,6,7,8]].values\n",
        "y = data.iloc[:, 9].values\n",
        "\n",
        "from sklearn.model_selection import train_test_split\n",
        "xtrain, xtest, ytrain, ytest = train_test_split(\n",
        "        x, y, test_size = 0.25, random_state = 0)\n",
        "\n",
        "\n",
        "from sklearn.preprocessing import StandardScaler\n",
        "sc_x = StandardScaler()\n",
        "xtrain = sc_x.fit_transform(xtrain)\n",
        "xtest = sc_x.transform(xtest)\n",
        " \n",
        "\n",
        "\n",
        "from sklearn.linear_model import LogisticRegression\n",
        "logistic=LogisticRegression()\n",
        "logistic.fit(xtrain,ytrain)\n",
        "print(\"accuracy:\",accuracy_score(ytest,logistic.predict(xtest)))\n",
        "\n"
      ]
    },
    {
      "cell_type": "code",
      "execution_count": null,
      "id": "5efd68c6",
      "metadata": {
        "id": "5efd68c6",
        "outputId": "9a07d2ce-eb86-4c2f-f634-18994a0c68f8"
      },
      "outputs": [
        {
          "name": "stdout",
          "output_type": "stream",
          "text": [
            "Model: \"sequential_21\"\n",
            "_________________________________________________________________\n",
            "Layer (type)                 Output Shape              Param #   \n",
            "=================================================================\n",
            "dense_73 (Dense)             (None, 80)                640       \n",
            "_________________________________________________________________\n",
            "dense_74 (Dense)             (None, 240)               19440     \n",
            "_________________________________________________________________\n",
            "dense_75 (Dense)             (None, 128)               30848     \n",
            "_________________________________________________________________\n",
            "dense_76 (Dense)             (None, 1)                 129       \n",
            "=================================================================\n",
            "Total params: 51,057\n",
            "Trainable params: 51,057\n",
            "Non-trainable params: 0\n",
            "_________________________________________________________________\n",
            "Epoch 1/10\n",
            "156/156 [==============================] - 1s 4ms/step - loss: 4.9842 - msle_acc: -3.9842\n",
            "Epoch 2/10\n",
            "156/156 [==============================] - 0s 1ms/step - loss: 0.1741 - msle_acc: 0.8259\n",
            "Epoch 3/10\n",
            "156/156 [==============================] - 0s 2ms/step - loss: 0.0638 - msle_acc: 0.9362\n",
            "Epoch 4/10\n",
            "156/156 [==============================] - 0s 2ms/step - loss: 0.0472 - msle_acc: 0.9528\n",
            "Epoch 5/10\n",
            "156/156 [==============================] - 0s 2ms/step - loss: 0.0373 - msle_acc: 0.9627\n",
            "Epoch 6/10\n",
            "156/156 [==============================] - 0s 1ms/step - loss: 0.0311 - msle_acc: 0.9689\n",
            "Epoch 7/10\n",
            "156/156 [==============================] - 0s 3ms/step - loss: 0.0251 - msle_acc: 0.9749\n",
            "Epoch 8/10\n",
            "156/156 [==============================] - 0s 1ms/step - loss: 0.0186 - msle_acc: 0.9814\n",
            "Epoch 9/10\n",
            "156/156 [==============================] - 0s 1ms/step - loss: 0.0163 - msle_acc: 0.9837\n",
            "Epoch 10/10\n",
            "156/156 [==============================] - 0s 1ms/step - loss: 0.0134 - msle_acc: 0.9866\n",
            "2/2 [==============================] - 0s 6ms/step - loss: 0.0138 - msle_acc: 0.9867\n"
          ]
        },
        {
          "data": {
            "text/plain": [
              "[0.013805483467876911, 0.9867246150970459]"
            ]
          },
          "execution_count": 206,
          "metadata": {},
          "output_type": "execute_result"
        }
      ],
      "source": [
        "import tensorflow.python.keras\n",
        "from sklearn.metrics import mean_squared_error\n",
        "from tensorflow.python.keras.models import Sequential\n",
        "from tensorflow.python.keras.layers import Dense, Dropout, Flatten\n",
        "from tensorflow.keras.losses import MeanSquaredLogarithmicError\n",
        "\n",
        "def msle_acc(ytrue, ypred):\n",
        "    return 1 - msle(ytrue,ypred)\n",
        "\n",
        "\n",
        "  \n",
        "msle = MeanSquaredLogarithmicError()\n",
        "n_cols = xtrain.shape[1]\n",
        "model = Sequential()\n",
        "model.add(Dense(80, input_dim=n_cols, activation='relu',kernel_initializer='normal'))\n",
        "model.add(Dense(240, activation='relu',kernel_initializer='normal')) \n",
        "model.add(Dense(128, activation='relu',kernel_initializer='normal')) \n",
        "model.add(Dense(1, activation='linear',kernel_initializer='normal'))\n",
        "\n",
        "\n",
        "model.compile(loss=msle, optimizer='adam', metrics=[msle_acc])\n",
        "model.summary()\n",
        "\n",
        "model.fit(xtrain, ytrain, epochs=10, batch_size=1)\n",
        "\n",
        "model.evaluate(xtest,ytest)\n"
      ]
    },
    {
      "cell_type": "code",
      "execution_count": null,
      "id": "35b02f5e",
      "metadata": {
        "id": "35b02f5e"
      },
      "outputs": [],
      "source": []
    },
    {
      "cell_type": "code",
      "execution_count": null,
      "id": "a538ed00",
      "metadata": {
        "id": "a538ed00"
      },
      "outputs": [],
      "source": []
    }
  ],
  "metadata": {
    "kernelspec": {
      "display_name": "Python 3 (ipykernel)",
      "language": "python",
      "name": "python3"
    },
    "language_info": {
      "codemirror_mode": {
        "name": "ipython",
        "version": 3
      },
      "file_extension": ".py",
      "mimetype": "text/x-python",
      "name": "python",
      "nbconvert_exporter": "python",
      "pygments_lexer": "ipython3",
      "version": "3.9.12"
    },
    "colab": {
      "provenance": [],
      "toc_visible": true,
      "include_colab_link": true
    }
  },
  "nbformat": 4,
  "nbformat_minor": 5
}